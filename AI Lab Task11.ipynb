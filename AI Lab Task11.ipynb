{
 "cells": [
  {
   "cell_type": "markdown",
   "id": "283bdc38",
   "metadata": {},
   "source": [
    "# Importing dataset"
   ]
  },
  {
   "cell_type": "code",
   "execution_count": 1,
   "id": "69351288",
   "metadata": {},
   "outputs": [
    {
     "data": {
      "text/html": [
       "<div>\n",
       "<style scoped>\n",
       "    .dataframe tbody tr th:only-of-type {\n",
       "        vertical-align: middle;\n",
       "    }\n",
       "\n",
       "    .dataframe tbody tr th {\n",
       "        vertical-align: top;\n",
       "    }\n",
       "\n",
       "    .dataframe thead th {\n",
       "        text-align: right;\n",
       "    }\n",
       "</style>\n",
       "<table border=\"1\" class=\"dataframe\">\n",
       "  <thead>\n",
       "    <tr style=\"text-align: right;\">\n",
       "      <th></th>\n",
       "      <th>date</th>\n",
       "      <th>price</th>\n",
       "      <th>bedrooms</th>\n",
       "      <th>bathrooms</th>\n",
       "      <th>sqft_living</th>\n",
       "      <th>sqft_lot</th>\n",
       "      <th>floors</th>\n",
       "      <th>waterfront</th>\n",
       "      <th>view</th>\n",
       "      <th>condition</th>\n",
       "      <th>sqft_above</th>\n",
       "      <th>sqft_basement</th>\n",
       "      <th>yr_built</th>\n",
       "      <th>yr_renovated</th>\n",
       "      <th>street</th>\n",
       "      <th>city</th>\n",
       "      <th>statezip</th>\n",
       "      <th>country</th>\n",
       "    </tr>\n",
       "  </thead>\n",
       "  <tbody>\n",
       "    <tr>\n",
       "      <th>0</th>\n",
       "      <td>5/2/2014 0:00</td>\n",
       "      <td>3.130000e+05</td>\n",
       "      <td>3.0</td>\n",
       "      <td>1.50</td>\n",
       "      <td>1340.0</td>\n",
       "      <td>7912.0</td>\n",
       "      <td>1.5</td>\n",
       "      <td>0.0</td>\n",
       "      <td>0.0</td>\n",
       "      <td>3</td>\n",
       "      <td>1340.0</td>\n",
       "      <td>0.0</td>\n",
       "      <td>1955.0</td>\n",
       "      <td>2005</td>\n",
       "      <td>18810 Densmore Ave N</td>\n",
       "      <td>Shoreline</td>\n",
       "      <td>WA 98133</td>\n",
       "      <td>USA</td>\n",
       "    </tr>\n",
       "    <tr>\n",
       "      <th>1</th>\n",
       "      <td>5/2/2014 0:00</td>\n",
       "      <td>2.384000e+06</td>\n",
       "      <td>5.0</td>\n",
       "      <td>2.50</td>\n",
       "      <td>3650.0</td>\n",
       "      <td>9050.0</td>\n",
       "      <td>2.0</td>\n",
       "      <td>0.0</td>\n",
       "      <td>4.0</td>\n",
       "      <td>5</td>\n",
       "      <td>3370.0</td>\n",
       "      <td>280.0</td>\n",
       "      <td>1921.0</td>\n",
       "      <td>0</td>\n",
       "      <td>709 W Blaine St</td>\n",
       "      <td>Seattle</td>\n",
       "      <td>WA 98119</td>\n",
       "      <td>USA</td>\n",
       "    </tr>\n",
       "    <tr>\n",
       "      <th>2</th>\n",
       "      <td>5/2/2014 0:00</td>\n",
       "      <td>3.420000e+05</td>\n",
       "      <td>3.0</td>\n",
       "      <td>2.00</td>\n",
       "      <td>1930.0</td>\n",
       "      <td>11947.0</td>\n",
       "      <td>1.0</td>\n",
       "      <td>0.0</td>\n",
       "      <td>0.0</td>\n",
       "      <td>4</td>\n",
       "      <td>1930.0</td>\n",
       "      <td>0.0</td>\n",
       "      <td>1966.0</td>\n",
       "      <td>0</td>\n",
       "      <td>26206-26214 143rd Ave SE</td>\n",
       "      <td>Kent</td>\n",
       "      <td>WA 98042</td>\n",
       "      <td>USA</td>\n",
       "    </tr>\n",
       "    <tr>\n",
       "      <th>3</th>\n",
       "      <td>5/2/2014 0:00</td>\n",
       "      <td>4.200000e+05</td>\n",
       "      <td>3.0</td>\n",
       "      <td>2.25</td>\n",
       "      <td>2000.0</td>\n",
       "      <td>8030.0</td>\n",
       "      <td>1.0</td>\n",
       "      <td>0.0</td>\n",
       "      <td>0.0</td>\n",
       "      <td>4</td>\n",
       "      <td>1000.0</td>\n",
       "      <td>1000.0</td>\n",
       "      <td>1963.0</td>\n",
       "      <td>0</td>\n",
       "      <td>857 170th Pl NE</td>\n",
       "      <td>Bellevue</td>\n",
       "      <td>WA 98008</td>\n",
       "      <td>USA</td>\n",
       "    </tr>\n",
       "    <tr>\n",
       "      <th>4</th>\n",
       "      <td>5/2/2014 0:00</td>\n",
       "      <td>5.500000e+05</td>\n",
       "      <td>4.0</td>\n",
       "      <td>2.50</td>\n",
       "      <td>1940.0</td>\n",
       "      <td>10500.0</td>\n",
       "      <td>1.0</td>\n",
       "      <td>0.0</td>\n",
       "      <td>0.0</td>\n",
       "      <td>4</td>\n",
       "      <td>1140.0</td>\n",
       "      <td>800.0</td>\n",
       "      <td>1976.0</td>\n",
       "      <td>1992</td>\n",
       "      <td>9105 170th Ave NE</td>\n",
       "      <td>Redmond</td>\n",
       "      <td>WA 98052</td>\n",
       "      <td>USA</td>\n",
       "    </tr>\n",
       "    <tr>\n",
       "      <th>...</th>\n",
       "      <td>...</td>\n",
       "      <td>...</td>\n",
       "      <td>...</td>\n",
       "      <td>...</td>\n",
       "      <td>...</td>\n",
       "      <td>...</td>\n",
       "      <td>...</td>\n",
       "      <td>...</td>\n",
       "      <td>...</td>\n",
       "      <td>...</td>\n",
       "      <td>...</td>\n",
       "      <td>...</td>\n",
       "      <td>...</td>\n",
       "      <td>...</td>\n",
       "      <td>...</td>\n",
       "      <td>...</td>\n",
       "      <td>...</td>\n",
       "      <td>...</td>\n",
       "    </tr>\n",
       "    <tr>\n",
       "      <th>4595</th>\n",
       "      <td>7/9/2014 0:00</td>\n",
       "      <td>3.081667e+05</td>\n",
       "      <td>3.0</td>\n",
       "      <td>1.75</td>\n",
       "      <td>1510.0</td>\n",
       "      <td>6360.0</td>\n",
       "      <td>1.0</td>\n",
       "      <td>0.0</td>\n",
       "      <td>0.0</td>\n",
       "      <td>4</td>\n",
       "      <td>1510.0</td>\n",
       "      <td>0.0</td>\n",
       "      <td>1954.0</td>\n",
       "      <td>1979</td>\n",
       "      <td>501 N 143rd St</td>\n",
       "      <td>Seattle</td>\n",
       "      <td>WA 98133</td>\n",
       "      <td>USA</td>\n",
       "    </tr>\n",
       "    <tr>\n",
       "      <th>4596</th>\n",
       "      <td>7/9/2014 0:00</td>\n",
       "      <td>5.343333e+05</td>\n",
       "      <td>3.0</td>\n",
       "      <td>NaN</td>\n",
       "      <td>1460.0</td>\n",
       "      <td>7573.0</td>\n",
       "      <td>2.0</td>\n",
       "      <td>0.0</td>\n",
       "      <td>0.0</td>\n",
       "      <td>3</td>\n",
       "      <td>1460.0</td>\n",
       "      <td>0.0</td>\n",
       "      <td>1983.0</td>\n",
       "      <td>2009</td>\n",
       "      <td>14855 SE 10th Pl</td>\n",
       "      <td>Bellevue</td>\n",
       "      <td>WA 98007</td>\n",
       "      <td>USA</td>\n",
       "    </tr>\n",
       "    <tr>\n",
       "      <th>4597</th>\n",
       "      <td>7/9/2014 0:00</td>\n",
       "      <td>4.169042e+05</td>\n",
       "      <td>3.0</td>\n",
       "      <td>NaN</td>\n",
       "      <td>3010.0</td>\n",
       "      <td>7014.0</td>\n",
       "      <td>2.0</td>\n",
       "      <td>0.0</td>\n",
       "      <td>0.0</td>\n",
       "      <td>3</td>\n",
       "      <td>3010.0</td>\n",
       "      <td>0.0</td>\n",
       "      <td>2009.0</td>\n",
       "      <td>0</td>\n",
       "      <td>759 Ilwaco Pl NE</td>\n",
       "      <td>Renton</td>\n",
       "      <td>WA 98059</td>\n",
       "      <td>USA</td>\n",
       "    </tr>\n",
       "    <tr>\n",
       "      <th>4598</th>\n",
       "      <td>7/10/2014 0:00</td>\n",
       "      <td>2.034000e+05</td>\n",
       "      <td>4.0</td>\n",
       "      <td>2.00</td>\n",
       "      <td>2090.0</td>\n",
       "      <td>6630.0</td>\n",
       "      <td>1.0</td>\n",
       "      <td>0.0</td>\n",
       "      <td>0.0</td>\n",
       "      <td>3</td>\n",
       "      <td>1070.0</td>\n",
       "      <td>1020.0</td>\n",
       "      <td>1974.0</td>\n",
       "      <td>0</td>\n",
       "      <td>5148 S Creston St</td>\n",
       "      <td>Seattle</td>\n",
       "      <td>WA 98178</td>\n",
       "      <td>USA</td>\n",
       "    </tr>\n",
       "    <tr>\n",
       "      <th>4599</th>\n",
       "      <td>7/10/2014 0:00</td>\n",
       "      <td>2.206000e+05</td>\n",
       "      <td>3.0</td>\n",
       "      <td>2.50</td>\n",
       "      <td>1490.0</td>\n",
       "      <td>8102.0</td>\n",
       "      <td>2.0</td>\n",
       "      <td>0.0</td>\n",
       "      <td>0.0</td>\n",
       "      <td>4</td>\n",
       "      <td>1490.0</td>\n",
       "      <td>0.0</td>\n",
       "      <td>1990.0</td>\n",
       "      <td>0</td>\n",
       "      <td>18717 SE 258th St</td>\n",
       "      <td>Covington</td>\n",
       "      <td>WA 98042</td>\n",
       "      <td>USA</td>\n",
       "    </tr>\n",
       "  </tbody>\n",
       "</table>\n",
       "<p>4600 rows × 18 columns</p>\n",
       "</div>"
      ],
      "text/plain": [
       "                date         price  bedrooms  bathrooms  sqft_living  \\\n",
       "0      5/2/2014 0:00  3.130000e+05       3.0       1.50       1340.0   \n",
       "1      5/2/2014 0:00  2.384000e+06       5.0       2.50       3650.0   \n",
       "2      5/2/2014 0:00  3.420000e+05       3.0       2.00       1930.0   \n",
       "3      5/2/2014 0:00  4.200000e+05       3.0       2.25       2000.0   \n",
       "4      5/2/2014 0:00  5.500000e+05       4.0       2.50       1940.0   \n",
       "...              ...           ...       ...        ...          ...   \n",
       "4595   7/9/2014 0:00  3.081667e+05       3.0       1.75       1510.0   \n",
       "4596   7/9/2014 0:00  5.343333e+05       3.0        NaN       1460.0   \n",
       "4597   7/9/2014 0:00  4.169042e+05       3.0        NaN       3010.0   \n",
       "4598  7/10/2014 0:00  2.034000e+05       4.0       2.00       2090.0   \n",
       "4599  7/10/2014 0:00  2.206000e+05       3.0       2.50       1490.0   \n",
       "\n",
       "      sqft_lot  floors  waterfront  view  condition  sqft_above  \\\n",
       "0       7912.0     1.5         0.0   0.0          3      1340.0   \n",
       "1       9050.0     2.0         0.0   4.0          5      3370.0   \n",
       "2      11947.0     1.0         0.0   0.0          4      1930.0   \n",
       "3       8030.0     1.0         0.0   0.0          4      1000.0   \n",
       "4      10500.0     1.0         0.0   0.0          4      1140.0   \n",
       "...        ...     ...         ...   ...        ...         ...   \n",
       "4595    6360.0     1.0         0.0   0.0          4      1510.0   \n",
       "4596    7573.0     2.0         0.0   0.0          3      1460.0   \n",
       "4597    7014.0     2.0         0.0   0.0          3      3010.0   \n",
       "4598    6630.0     1.0         0.0   0.0          3      1070.0   \n",
       "4599    8102.0     2.0         0.0   0.0          4      1490.0   \n",
       "\n",
       "      sqft_basement  yr_built  yr_renovated                    street  \\\n",
       "0               0.0    1955.0          2005      18810 Densmore Ave N   \n",
       "1             280.0    1921.0             0           709 W Blaine St   \n",
       "2               0.0    1966.0             0  26206-26214 143rd Ave SE   \n",
       "3            1000.0    1963.0             0           857 170th Pl NE   \n",
       "4             800.0    1976.0          1992         9105 170th Ave NE   \n",
       "...             ...       ...           ...                       ...   \n",
       "4595            0.0    1954.0          1979            501 N 143rd St   \n",
       "4596            0.0    1983.0          2009          14855 SE 10th Pl   \n",
       "4597            0.0    2009.0             0          759 Ilwaco Pl NE   \n",
       "4598         1020.0    1974.0             0         5148 S Creston St   \n",
       "4599            0.0    1990.0             0         18717 SE 258th St   \n",
       "\n",
       "           city  statezip country  \n",
       "0     Shoreline  WA 98133     USA  \n",
       "1       Seattle  WA 98119     USA  \n",
       "2          Kent  WA 98042     USA  \n",
       "3      Bellevue  WA 98008     USA  \n",
       "4       Redmond  WA 98052     USA  \n",
       "...         ...       ...     ...  \n",
       "4595    Seattle  WA 98133     USA  \n",
       "4596   Bellevue  WA 98007     USA  \n",
       "4597     Renton  WA 98059     USA  \n",
       "4598    Seattle  WA 98178     USA  \n",
       "4599  Covington  WA 98042     USA  \n",
       "\n",
       "[4600 rows x 18 columns]"
      ]
     },
     "execution_count": 1,
     "metadata": {},
     "output_type": "execute_result"
    }
   ],
   "source": [
    "import pandas as pd\n",
    "df = pd.read_csv('data.csv')\n",
    "df"
   ]
  },
  {
   "cell_type": "markdown",
   "id": "42ea07ea",
   "metadata": {},
   "source": [
    "# Data Pre-Process"
   ]
  },
  {
   "cell_type": "code",
   "execution_count": 2,
   "id": "1a28055e",
   "metadata": {
    "scrolled": true
   },
   "outputs": [
    {
     "name": "stdout",
     "output_type": "stream",
     "text": [
      "Total null values in each column:\n",
      "date             0\n",
      "price            3\n",
      "bedrooms         5\n",
      "bathrooms        2\n",
      "sqft_living      2\n",
      "sqft_lot         2\n",
      "floors           2\n",
      "waterfront       5\n",
      "view             2\n",
      "condition        0\n",
      "sqft_above       3\n",
      "sqft_basement    3\n",
      "yr_built         6\n",
      "yr_renovated     0\n",
      "street           3\n",
      "city             4\n",
      "statezip         3\n",
      "country          6\n",
      "dtype: int64\n"
     ]
    }
   ],
   "source": [
    "print(\"Total null values in each column:\")\n",
    "print(df.isnull().sum())"
   ]
  },
  {
   "cell_type": "code",
   "execution_count": 3,
   "id": "3a3156d5",
   "metadata": {},
   "outputs": [
    {
     "name": "stdout",
     "output_type": "stream",
     "text": [
      "Null values in price are : 3\n"
     ]
    }
   ],
   "source": [
    "print(f\"Null values in price are : {df['price'].isnull().sum()}\")"
   ]
  },
  {
   "cell_type": "code",
   "execution_count": 4,
   "id": "36bf4d8b",
   "metadata": {},
   "outputs": [
    {
     "name": "stdout",
     "output_type": "stream",
     "text": [
      "<class 'pandas.core.frame.DataFrame'>\n",
      "RangeIndex: 4600 entries, 0 to 4599\n",
      "Data columns (total 18 columns):\n",
      " #   Column         Non-Null Count  Dtype  \n",
      "---  ------         --------------  -----  \n",
      " 0   date           4600 non-null   object \n",
      " 1   price          4597 non-null   float64\n",
      " 2   bedrooms       4595 non-null   float64\n",
      " 3   bathrooms      4598 non-null   float64\n",
      " 4   sqft_living    4598 non-null   float64\n",
      " 5   sqft_lot       4598 non-null   float64\n",
      " 6   floors         4598 non-null   float64\n",
      " 7   waterfront     4595 non-null   float64\n",
      " 8   view           4598 non-null   float64\n",
      " 9   condition      4600 non-null   int64  \n",
      " 10  sqft_above     4597 non-null   float64\n",
      " 11  sqft_basement  4597 non-null   float64\n",
      " 12  yr_built       4594 non-null   float64\n",
      " 13  yr_renovated   4600 non-null   int64  \n",
      " 14  street         4597 non-null   object \n",
      " 15  city           4596 non-null   object \n",
      " 16  statezip       4597 non-null   object \n",
      " 17  country        4594 non-null   object \n",
      "dtypes: float64(11), int64(2), object(5)\n",
      "memory usage: 647.0+ KB\n"
     ]
    }
   ],
   "source": [
    "df.info()"
   ]
  },
  {
   "cell_type": "code",
   "execution_count": 5,
   "id": "6ca02ea8",
   "metadata": {},
   "outputs": [],
   "source": [
    "def fillnaMode(col):\n",
    "    for i in col:\n",
    "        df[i] = df[i].fillna(df[i].mode()[0])\n",
    "col = ['street','city','statezip','country']\n",
    "fillnaMode(col)"
   ]
  },
  {
   "cell_type": "code",
   "execution_count": 6,
   "id": "4fc15b21",
   "metadata": {},
   "outputs": [
    {
     "name": "stdout",
     "output_type": "stream",
     "text": [
      "Total null values in each column:\n",
      "date             0\n",
      "price            3\n",
      "bedrooms         5\n",
      "bathrooms        2\n",
      "sqft_living      2\n",
      "sqft_lot         2\n",
      "floors           2\n",
      "waterfront       5\n",
      "view             2\n",
      "condition        0\n",
      "sqft_above       3\n",
      "sqft_basement    3\n",
      "yr_built         6\n",
      "yr_renovated     0\n",
      "street           0\n",
      "city             0\n",
      "statezip         0\n",
      "country          0\n",
      "dtype: int64\n"
     ]
    }
   ],
   "source": [
    "print(\"Total null values in each column:\")\n",
    "print(df.isnull().sum())"
   ]
  },
  {
   "cell_type": "code",
   "execution_count": 7,
   "id": "6f697fce",
   "metadata": {},
   "outputs": [],
   "source": [
    "def fillnaMode(col):\n",
    "    for i in col:\n",
    "        df[i] = df[i].fillna(df[i].mode()[0])\n",
    "\n",
    "columns = ['street', 'city', 'statezip', 'country']\n",
    "fillnaMode(columns)"
   ]
  },
  {
   "cell_type": "code",
   "execution_count": 8,
   "id": "50dc7921",
   "metadata": {},
   "outputs": [],
   "source": [
    "def fillnaMean(col):\n",
    "    for i in col:\n",
    "        df[i] = df[i].fillna(df[i].mean())\n",
    "columns =[\n",
    "    'price','bedrooms','bathrooms','sqft_living','sqft_lot',\n",
    "    'floors','waterfront','view','sqft_above','sqft_basement',\n",
    "    'yr_built']\n",
    "fillnaMean(columns)"
   ]
  },
  {
   "cell_type": "code",
   "execution_count": 9,
   "id": "0d5d6565",
   "metadata": {},
   "outputs": [
    {
     "name": "stdout",
     "output_type": "stream",
     "text": [
      "Total null values:\n",
      "date             0\n",
      "price            0\n",
      "bedrooms         0\n",
      "bathrooms        0\n",
      "sqft_living      0\n",
      "sqft_lot         0\n",
      "floors           0\n",
      "waterfront       0\n",
      "view             0\n",
      "condition        0\n",
      "sqft_above       0\n",
      "sqft_basement    0\n",
      "yr_built         0\n",
      "yr_renovated     0\n",
      "street           0\n",
      "city             0\n",
      "statezip         0\n",
      "country          0\n",
      "dtype: int64\n"
     ]
    }
   ],
   "source": [
    "print(\"Total null values:\")\n",
    "print(df.isnull().sum())"
   ]
  },
  {
   "cell_type": "code",
   "execution_count": 10,
   "id": "8b3fa313",
   "metadata": {},
   "outputs": [],
   "source": [
    "def changetoint64(col):\n",
    "    for i in col:\n",
    "        df[i] = df[i].astype('int64')\n",
    "columns = [\n",
    "    'price','bedrooms','bathrooms','sqft_living','sqft_lot',\n",
    "    'floors','waterfront','view','sqft_above','sqft_basement',\n",
    "    'yr_built'\n",
    "]\n",
    "changetoint64(columns)"
   ]
  },
  {
   "cell_type": "code",
   "execution_count": 11,
   "id": "8f056faf",
   "metadata": {},
   "outputs": [
    {
     "name": "stdout",
     "output_type": "stream",
     "text": [
      "<class 'pandas.core.frame.DataFrame'>\n",
      "RangeIndex: 4600 entries, 0 to 4599\n",
      "Data columns (total 18 columns):\n",
      " #   Column         Non-Null Count  Dtype \n",
      "---  ------         --------------  ----- \n",
      " 0   date           4600 non-null   object\n",
      " 1   price          4600 non-null   int64 \n",
      " 2   bedrooms       4600 non-null   int64 \n",
      " 3   bathrooms      4600 non-null   int64 \n",
      " 4   sqft_living    4600 non-null   int64 \n",
      " 5   sqft_lot       4600 non-null   int64 \n",
      " 6   floors         4600 non-null   int64 \n",
      " 7   waterfront     4600 non-null   int64 \n",
      " 8   view           4600 non-null   int64 \n",
      " 9   condition      4600 non-null   int64 \n",
      " 10  sqft_above     4600 non-null   int64 \n",
      " 11  sqft_basement  4600 non-null   int64 \n",
      " 12  yr_built       4600 non-null   int64 \n",
      " 13  yr_renovated   4600 non-null   int64 \n",
      " 14  street         4600 non-null   object\n",
      " 15  city           4600 non-null   object\n",
      " 16  statezip       4600 non-null   object\n",
      " 17  country        4600 non-null   object\n",
      "dtypes: int64(13), object(5)\n",
      "memory usage: 647.0+ KB\n"
     ]
    }
   ],
   "source": [
    "df.info()"
   ]
  },
  {
   "cell_type": "code",
   "execution_count": 12,
   "id": "fe334b60",
   "metadata": {},
   "outputs": [],
   "source": [
    "df.drop('date',axis = 1,inplace = True)\n",
    "df.drop('country',axis = 1,inplace = True)"
   ]
  },
  {
   "cell_type": "code",
   "execution_count": 13,
   "id": "96232c4c",
   "metadata": {},
   "outputs": [],
   "source": [
    "import numpy as np\n",
    "from sklearn.preprocessing import LabelEncoder  "
   ]
  },
  {
   "cell_type": "code",
   "execution_count": 14,
   "id": "c634f910",
   "metadata": {},
   "outputs": [],
   "source": [
    "df_encoded = df.copy()"
   ]
  },
  {
   "cell_type": "code",
   "execution_count": 15,
   "id": "f610c4c1",
   "metadata": {},
   "outputs": [],
   "source": [
    "def encodecols(col):\n",
    "    for i in col:\n",
    "        data = pd.DataFrame({i:df[i].unique()})\n",
    "        label = LabelEncoder()\n",
    "        label.fit(np.ravel(data))\n",
    "        df_encoded[i] = label.transform(df[i])\n",
    "col = ['street','city','statezip']\n",
    "encodecols(col)"
   ]
  },
  {
   "cell_type": "code",
   "execution_count": 16,
   "id": "35abf43b",
   "metadata": {},
   "outputs": [
    {
     "name": "stdout",
     "output_type": "stream",
     "text": [
      "<class 'pandas.core.frame.DataFrame'>\n",
      "RangeIndex: 4600 entries, 0 to 4599\n",
      "Data columns (total 16 columns):\n",
      " #   Column         Non-Null Count  Dtype\n",
      "---  ------         --------------  -----\n",
      " 0   price          4600 non-null   int64\n",
      " 1   bedrooms       4600 non-null   int64\n",
      " 2   bathrooms      4600 non-null   int64\n",
      " 3   sqft_living    4600 non-null   int64\n",
      " 4   sqft_lot       4600 non-null   int64\n",
      " 5   floors         4600 non-null   int64\n",
      " 6   waterfront     4600 non-null   int64\n",
      " 7   view           4600 non-null   int64\n",
      " 8   condition      4600 non-null   int64\n",
      " 9   sqft_above     4600 non-null   int64\n",
      " 10  sqft_basement  4600 non-null   int64\n",
      " 11  yr_built       4600 non-null   int64\n",
      " 12  yr_renovated   4600 non-null   int64\n",
      " 13  street         4600 non-null   int32\n",
      " 14  city           4600 non-null   int32\n",
      " 15  statezip       4600 non-null   int32\n",
      "dtypes: int32(3), int64(13)\n",
      "memory usage: 521.2 KB\n"
     ]
    }
   ],
   "source": [
    "df_encoded.info()"
   ]
  },
  {
   "cell_type": "code",
   "execution_count": 17,
   "id": "605b87d5",
   "metadata": {},
   "outputs": [],
   "source": [
    "def to_int64_encoded(col):\n",
    "    for i in col:\n",
    "        df_encoded[i] = df_encoded[i].astype('int64')\n",
    "col = ['street','city','statezip']\n",
    "to_int64_encoded(col)"
   ]
  },
  {
   "cell_type": "code",
   "execution_count": 18,
   "id": "2cf1fe38",
   "metadata": {},
   "outputs": [
    {
     "name": "stdout",
     "output_type": "stream",
     "text": [
      "<class 'pandas.core.frame.DataFrame'>\n",
      "RangeIndex: 4600 entries, 0 to 4599\n",
      "Data columns (total 16 columns):\n",
      " #   Column         Non-Null Count  Dtype\n",
      "---  ------         --------------  -----\n",
      " 0   price          4600 non-null   int64\n",
      " 1   bedrooms       4600 non-null   int64\n",
      " 2   bathrooms      4600 non-null   int64\n",
      " 3   sqft_living    4600 non-null   int64\n",
      " 4   sqft_lot       4600 non-null   int64\n",
      " 5   floors         4600 non-null   int64\n",
      " 6   waterfront     4600 non-null   int64\n",
      " 7   view           4600 non-null   int64\n",
      " 8   condition      4600 non-null   int64\n",
      " 9   sqft_above     4600 non-null   int64\n",
      " 10  sqft_basement  4600 non-null   int64\n",
      " 11  yr_built       4600 non-null   int64\n",
      " 12  yr_renovated   4600 non-null   int64\n",
      " 13  street         4600 non-null   int64\n",
      " 14  city           4600 non-null   int64\n",
      " 15  statezip       4600 non-null   int64\n",
      "dtypes: int64(16)\n",
      "memory usage: 575.1 KB\n"
     ]
    }
   ],
   "source": [
    "df_encoded.info()"
   ]
  },
  {
   "cell_type": "markdown",
   "id": "e12391e3",
   "metadata": {},
   "source": [
    "# Train_Test"
   ]
  },
  {
   "cell_type": "code",
   "execution_count": 19,
   "id": "e8bb34cc",
   "metadata": {},
   "outputs": [],
   "source": [
    "from sklearn.model_selection import train_test_split"
   ]
  },
  {
   "cell_type": "code",
   "execution_count": 20,
   "id": "099033b7",
   "metadata": {},
   "outputs": [],
   "source": [
    "df_encoded.to_csv(r'df_encoded.csv',index = False,header = True)"
   ]
  },
  {
   "cell_type": "code",
   "execution_count": 21,
   "id": "49d7a36b",
   "metadata": {},
   "outputs": [],
   "source": [
    "traindata , testdata = train_test_split(df_encoded,test_size = 0.2)"
   ]
  },
  {
   "cell_type": "code",
   "execution_count": 22,
   "id": "9ed701fd",
   "metadata": {},
   "outputs": [
    {
     "data": {
      "text/html": [
       "<div>\n",
       "<style scoped>\n",
       "    .dataframe tbody tr th:only-of-type {\n",
       "        vertical-align: middle;\n",
       "    }\n",
       "\n",
       "    .dataframe tbody tr th {\n",
       "        vertical-align: top;\n",
       "    }\n",
       "\n",
       "    .dataframe thead th {\n",
       "        text-align: right;\n",
       "    }\n",
       "</style>\n",
       "<table border=\"1\" class=\"dataframe\">\n",
       "  <thead>\n",
       "    <tr style=\"text-align: right;\">\n",
       "      <th></th>\n",
       "      <th>bedrooms</th>\n",
       "      <th>bathrooms</th>\n",
       "      <th>sqft_living</th>\n",
       "      <th>sqft_lot</th>\n",
       "      <th>floors</th>\n",
       "      <th>waterfront</th>\n",
       "      <th>view</th>\n",
       "      <th>condition</th>\n",
       "      <th>sqft_above</th>\n",
       "      <th>sqft_basement</th>\n",
       "      <th>yr_built</th>\n",
       "      <th>yr_renovated</th>\n",
       "      <th>street</th>\n",
       "      <th>city</th>\n",
       "      <th>statezip</th>\n",
       "    </tr>\n",
       "  </thead>\n",
       "  <tbody>\n",
       "    <tr>\n",
       "      <th>522</th>\n",
       "      <td>2</td>\n",
       "      <td>1</td>\n",
       "      <td>700</td>\n",
       "      <td>10540</td>\n",
       "      <td>1</td>\n",
       "      <td>0</td>\n",
       "      <td>0</td>\n",
       "      <td>3</td>\n",
       "      <td>700</td>\n",
       "      <td>0</td>\n",
       "      <td>1953</td>\n",
       "      <td>0</td>\n",
       "      <td>517</td>\n",
       "      <td>26</td>\n",
       "      <td>68</td>\n",
       "    </tr>\n",
       "    <tr>\n",
       "      <th>2453</th>\n",
       "      <td>4</td>\n",
       "      <td>2</td>\n",
       "      <td>3140</td>\n",
       "      <td>10875</td>\n",
       "      <td>1</td>\n",
       "      <td>0</td>\n",
       "      <td>1</td>\n",
       "      <td>3</td>\n",
       "      <td>1940</td>\n",
       "      <td>1200</td>\n",
       "      <td>1939</td>\n",
       "      <td>1969</td>\n",
       "      <td>2963</td>\n",
       "      <td>35</td>\n",
       "      <td>74</td>\n",
       "    </tr>\n",
       "    <tr>\n",
       "      <th>981</th>\n",
       "      <td>2</td>\n",
       "      <td>1</td>\n",
       "      <td>790</td>\n",
       "      <td>8424</td>\n",
       "      <td>1</td>\n",
       "      <td>0</td>\n",
       "      <td>0</td>\n",
       "      <td>4</td>\n",
       "      <td>790</td>\n",
       "      <td>0</td>\n",
       "      <td>1953</td>\n",
       "      <td>1983</td>\n",
       "      <td>3604</td>\n",
       "      <td>36</td>\n",
       "      <td>62</td>\n",
       "    </tr>\n",
       "    <tr>\n",
       "      <th>2142</th>\n",
       "      <td>4</td>\n",
       "      <td>2</td>\n",
       "      <td>1990</td>\n",
       "      <td>7252</td>\n",
       "      <td>1</td>\n",
       "      <td>0</td>\n",
       "      <td>0</td>\n",
       "      <td>3</td>\n",
       "      <td>1270</td>\n",
       "      <td>720</td>\n",
       "      <td>1999</td>\n",
       "      <td>0</td>\n",
       "      <td>2450</td>\n",
       "      <td>1</td>\n",
       "      <td>1</td>\n",
       "    </tr>\n",
       "    <tr>\n",
       "      <th>692</th>\n",
       "      <td>4</td>\n",
       "      <td>2</td>\n",
       "      <td>2290</td>\n",
       "      <td>11137</td>\n",
       "      <td>1</td>\n",
       "      <td>0</td>\n",
       "      <td>0</td>\n",
       "      <td>4</td>\n",
       "      <td>2290</td>\n",
       "      <td>0</td>\n",
       "      <td>1955</td>\n",
       "      <td>2009</td>\n",
       "      <td>121</td>\n",
       "      <td>3</td>\n",
       "      <td>3</td>\n",
       "    </tr>\n",
       "  </tbody>\n",
       "</table>\n",
       "</div>"
      ],
      "text/plain": [
       "      bedrooms  bathrooms  sqft_living  sqft_lot  floors  waterfront  view  \\\n",
       "522          2          1          700     10540       1           0     0   \n",
       "2453         4          2         3140     10875       1           0     1   \n",
       "981          2          1          790      8424       1           0     0   \n",
       "2142         4          2         1990      7252       1           0     0   \n",
       "692          4          2         2290     11137       1           0     0   \n",
       "\n",
       "      condition  sqft_above  sqft_basement  yr_built  yr_renovated  street  \\\n",
       "522           3         700              0      1953             0     517   \n",
       "2453          3        1940           1200      1939          1969    2963   \n",
       "981           4         790              0      1953          1983    3604   \n",
       "2142          3        1270            720      1999             0    2450   \n",
       "692           4        2290              0      1955          2009     121   \n",
       "\n",
       "      city  statezip  \n",
       "522     26        68  \n",
       "2453    35        74  \n",
       "981     36        62  \n",
       "2142     1         1  \n",
       "692      3         3  "
      ]
     },
     "execution_count": 22,
     "metadata": {},
     "output_type": "execute_result"
    }
   ],
   "source": [
    "train_x = traindata.iloc[:,1:]\n",
    "train_x.head()"
   ]
  },
  {
   "cell_type": "code",
   "execution_count": 23,
   "id": "ffd5514e",
   "metadata": {},
   "outputs": [
    {
     "data": {
      "text/plain": [
       "522      192000\n",
       "2453     775000\n",
       "981      268500\n",
       "2142     270000\n",
       "692     1058000\n",
       "Name: price, dtype: int64"
      ]
     },
     "execution_count": 23,
     "metadata": {},
     "output_type": "execute_result"
    }
   ],
   "source": [
    "train_y = traindata.iloc[:,0]\n",
    "train_y.head()"
   ]
  },
  {
   "cell_type": "code",
   "execution_count": 24,
   "id": "3e829a92",
   "metadata": {},
   "outputs": [
    {
     "data": {
      "text/html": [
       "<div>\n",
       "<style scoped>\n",
       "    .dataframe tbody tr th:only-of-type {\n",
       "        vertical-align: middle;\n",
       "    }\n",
       "\n",
       "    .dataframe tbody tr th {\n",
       "        vertical-align: top;\n",
       "    }\n",
       "\n",
       "    .dataframe thead th {\n",
       "        text-align: right;\n",
       "    }\n",
       "</style>\n",
       "<table border=\"1\" class=\"dataframe\">\n",
       "  <thead>\n",
       "    <tr style=\"text-align: right;\">\n",
       "      <th></th>\n",
       "      <th>bedrooms</th>\n",
       "      <th>bathrooms</th>\n",
       "      <th>sqft_living</th>\n",
       "      <th>sqft_lot</th>\n",
       "      <th>floors</th>\n",
       "      <th>waterfront</th>\n",
       "      <th>view</th>\n",
       "      <th>condition</th>\n",
       "      <th>sqft_above</th>\n",
       "      <th>sqft_basement</th>\n",
       "      <th>yr_built</th>\n",
       "      <th>yr_renovated</th>\n",
       "      <th>street</th>\n",
       "      <th>city</th>\n",
       "      <th>statezip</th>\n",
       "    </tr>\n",
       "  </thead>\n",
       "  <tbody>\n",
       "    <tr>\n",
       "      <th>3685</th>\n",
       "      <td>4</td>\n",
       "      <td>2</td>\n",
       "      <td>1980</td>\n",
       "      <td>15086</td>\n",
       "      <td>2</td>\n",
       "      <td>0</td>\n",
       "      <td>0</td>\n",
       "      <td>3</td>\n",
       "      <td>1980</td>\n",
       "      <td>0</td>\n",
       "      <td>1981</td>\n",
       "      <td>2013</td>\n",
       "      <td>1745</td>\n",
       "      <td>33</td>\n",
       "      <td>42</td>\n",
       "    </tr>\n",
       "    <tr>\n",
       "      <th>1744</th>\n",
       "      <td>4</td>\n",
       "      <td>2</td>\n",
       "      <td>2220</td>\n",
       "      <td>8872</td>\n",
       "      <td>1</td>\n",
       "      <td>0</td>\n",
       "      <td>0</td>\n",
       "      <td>4</td>\n",
       "      <td>1110</td>\n",
       "      <td>1110</td>\n",
       "      <td>1961</td>\n",
       "      <td>2001</td>\n",
       "      <td>3658</td>\n",
       "      <td>3</td>\n",
       "      <td>5</td>\n",
       "    </tr>\n",
       "    <tr>\n",
       "      <th>3475</th>\n",
       "      <td>3</td>\n",
       "      <td>1</td>\n",
       "      <td>1140</td>\n",
       "      <td>27760</td>\n",
       "      <td>1</td>\n",
       "      <td>0</td>\n",
       "      <td>0</td>\n",
       "      <td>4</td>\n",
       "      <td>1140</td>\n",
       "      <td>0</td>\n",
       "      <td>1981</td>\n",
       "      <td>0</td>\n",
       "      <td>2403</td>\n",
       "      <td>16</td>\n",
       "      <td>15</td>\n",
       "    </tr>\n",
       "    <tr>\n",
       "      <th>688</th>\n",
       "      <td>3</td>\n",
       "      <td>1</td>\n",
       "      <td>1340</td>\n",
       "      <td>7473</td>\n",
       "      <td>1</td>\n",
       "      <td>0</td>\n",
       "      <td>0</td>\n",
       "      <td>4</td>\n",
       "      <td>1340</td>\n",
       "      <td>0</td>\n",
       "      <td>1973</td>\n",
       "      <td>0</td>\n",
       "      <td>1123</td>\n",
       "      <td>1</td>\n",
       "      <td>1</td>\n",
       "    </tr>\n",
       "    <tr>\n",
       "      <th>4399</th>\n",
       "      <td>4</td>\n",
       "      <td>1</td>\n",
       "      <td>2420</td>\n",
       "      <td>7672</td>\n",
       "      <td>1</td>\n",
       "      <td>0</td>\n",
       "      <td>0</td>\n",
       "      <td>3</td>\n",
       "      <td>1480</td>\n",
       "      <td>940</td>\n",
       "      <td>1979</td>\n",
       "      <td>2014</td>\n",
       "      <td>3294</td>\n",
       "      <td>16</td>\n",
       "      <td>15</td>\n",
       "    </tr>\n",
       "  </tbody>\n",
       "</table>\n",
       "</div>"
      ],
      "text/plain": [
       "      bedrooms  bathrooms  sqft_living  sqft_lot  floors  waterfront  view  \\\n",
       "3685         4          2         1980     15086       2           0     0   \n",
       "1744         4          2         2220      8872       1           0     0   \n",
       "3475         3          1         1140     27760       1           0     0   \n",
       "688          3          1         1340      7473       1           0     0   \n",
       "4399         4          1         2420      7672       1           0     0   \n",
       "\n",
       "      condition  sqft_above  sqft_basement  yr_built  yr_renovated  street  \\\n",
       "3685          3        1980              0      1981          2013    1745   \n",
       "1744          4        1110           1110      1961          2001    3658   \n",
       "3475          4        1140              0      1981             0    2403   \n",
       "688           4        1340              0      1973             0    1123   \n",
       "4399          3        1480            940      1979          2014    3294   \n",
       "\n",
       "      city  statezip  \n",
       "3685    33        42  \n",
       "1744     3         5  \n",
       "3475    16        15  \n",
       "688      1         1  \n",
       "4399    16        15  "
      ]
     },
     "execution_count": 24,
     "metadata": {},
     "output_type": "execute_result"
    }
   ],
   "source": [
    "test_x = testdata.iloc[:,1:]\n",
    "test_x.head()"
   ]
  },
  {
   "cell_type": "code",
   "execution_count": 25,
   "id": "7ad4a924",
   "metadata": {},
   "outputs": [
    {
     "data": {
      "text/plain": [
       "3685    530000\n",
       "1744    495000\n",
       "3475    243800\n",
       "688     223000\n",
       "4399    257500\n",
       "Name: price, dtype: int64"
      ]
     },
     "execution_count": 25,
     "metadata": {},
     "output_type": "execute_result"
    }
   ],
   "source": [
    "test_y = testdata.iloc[:,0]\n",
    "test_y.head()"
   ]
  },
  {
   "cell_type": "markdown",
   "id": "c1e6ebad",
   "metadata": {},
   "source": [
    "# SVM Classifier"
   ]
  },
  {
   "cell_type": "code",
   "execution_count": 35,
   "id": "15ae956a",
   "metadata": {},
   "outputs": [],
   "source": [
    "from sklearn.svm import SVC,SVR"
   ]
  },
  {
   "cell_type": "code",
   "execution_count": 36,
   "id": "2f8ca01e",
   "metadata": {},
   "outputs": [
    {
     "name": "stdout",
     "output_type": "stream",
     "text": [
      "SVR()\n"
     ]
    }
   ],
   "source": [
    "model_svc = SVR()\n",
    "model_svc.fit(train_x,train_y)\n",
    "print(model_svc)"
   ]
  },
  {
   "cell_type": "code",
   "execution_count": 37,
   "id": "13e56306",
   "metadata": {},
   "outputs": [],
   "source": [
    "from sklearn.metrics import accuracy_score,mean_squared_error"
   ]
  },
  {
   "cell_type": "code",
   "execution_count": 38,
   "id": "f2f963dd",
   "metadata": {},
   "outputs": [],
   "source": [
    "predictions = model_svc.predict(test_x)"
   ]
  },
  {
   "cell_type": "code",
   "execution_count": 39,
   "id": "44d93aa1",
   "metadata": {},
   "outputs": [
    {
     "data": {
      "text/plain": [
       "-0.04636638702446394"
      ]
     },
     "execution_count": 39,
     "metadata": {},
     "output_type": "execute_result"
    }
   ],
   "source": [
    "model_svc.score(test_x,test_y)"
   ]
  },
  {
   "cell_type": "code",
   "execution_count": 41,
   "id": "f4ef3f0b",
   "metadata": {},
   "outputs": [],
   "source": [
    "accuracy = mean_squared_error(test_y,predictions)"
   ]
  },
  {
   "cell_type": "code",
   "execution_count": 42,
   "id": "88d7c228",
   "metadata": {},
   "outputs": [
    {
     "name": "stdout",
     "output_type": "stream",
     "text": [
      "226928799963.47052\n"
     ]
    }
   ],
   "source": [
    "print(accuracy)"
   ]
  },
  {
   "cell_type": "code",
   "execution_count": null,
   "id": "11ee1c7c",
   "metadata": {},
   "outputs": [],
   "source": []
  }
 ],
 "metadata": {
  "kernelspec": {
   "display_name": "Python 3 (ipykernel)",
   "language": "python",
   "name": "python3"
  },
  "language_info": {
   "codemirror_mode": {
    "name": "ipython",
    "version": 3
   },
   "file_extension": ".py",
   "mimetype": "text/x-python",
   "name": "python",
   "nbconvert_exporter": "python",
   "pygments_lexer": "ipython3",
   "version": "3.11.5"
  }
 },
 "nbformat": 4,
 "nbformat_minor": 5
}
